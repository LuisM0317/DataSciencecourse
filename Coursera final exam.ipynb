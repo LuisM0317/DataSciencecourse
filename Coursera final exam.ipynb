{
 "cells": [
  {
   "cell_type": "markdown",
   "id": "3bedcefd-49c0-447b-92a2-4af6d5a33f3f",
   "metadata": {},
   "source": [
    "# Data Science Tools and Ecosystem"
   ]
  },
  {
   "cell_type": "markdown",
   "id": "c18d83f8-9f3a-41e9-be84-6844baca74a5",
   "metadata": {},
   "source": [
    "In this notebook, Data Science Tools and Ecosystem are summarized"
   ]
  },
  {
   "cell_type": "markdown",
   "id": "59a1853b-d0b8-4b1b-b1f9-5b93d4f5ac20",
   "metadata": {},
   "source": [
    "__Objectives__"
   ]
  },
  {
   "cell_type": "markdown",
   "id": "e4b0aab3-87b5-4ca3-ad8d-2acd7169cf29",
   "metadata": {},
   "source": [
    "- Popular languages used in Data Science\n",
    "- Common libraries used in Data Science\n",
    "- Arithmetic expressions in Python"
   ]
  },
  {
   "cell_type": "markdown",
   "id": "6f2802cb-4b5d-4bcb-b519-17f8b2475024",
   "metadata": {},
   "source": [
    "Some of the most popular languages that Data Scientist use are:"
   ]
  },
  {
   "cell_type": "markdown",
   "id": "cc1f7949-c052-4f67-adf4-39ca7cae7560",
   "metadata": {},
   "source": [
    "1. Python\n",
    "2. C++\n",
    "3. R\n",
    "4. SQL"
   ]
  },
  {
   "cell_type": "markdown",
   "id": "eca2c44b-6977-448d-9320-c483e43bd71c",
   "metadata": {},
   "source": [
    "5. Some of the libraries used by Data Scientists include: "
   ]
  },
  {
   "cell_type": "markdown",
   "id": "5bfe3dc4-2686-47fc-a6f6-5ab02968ad5b",
   "metadata": {},
   "source": [
    "1. Pandas\n",
    "2. TensorFlow\n",
    "3. Scikit-learn"
   ]
  },
  {
   "cell_type": "markdown",
   "id": "e02f700c-7bd3-4073-81fc-7c27a027af14",
   "metadata": {},
   "source": [
    "| Data Science Tools |\n",
    "|--------------------|\n",
    "| RStudio |\n",
    "| Apache Spark |\n",
    "| TensorFlow |"
   ]
  },
  {
   "cell_type": "markdown",
   "id": "efe7c23c-4b22-4bbd-95e1-b5f3fbf19878",
   "metadata": {},
   "source": [
    "### Below are a few examples of evaluating arithmetic expressions in Python"
   ]
  },
  {
   "cell_type": "code",
   "execution_count": 4,
   "id": "0870100d-fa2a-48e7-9ba2-ff7adbbf827d",
   "metadata": {},
   "outputs": [
    {
     "data": {
      "text/plain": [
       "17"
      ]
     },
     "execution_count": 4,
     "metadata": {},
     "output_type": "execute_result"
    }
   ],
   "source": [
    "# This a simple arithmetic expression to mutiply then add integers\n",
    "((3*4)+5)"
   ]
  },
  {
   "cell_type": "code",
   "execution_count": 6,
   "id": "a0bebd36-7fd1-405f-bb60-4a7bb91d3a07",
   "metadata": {},
   "outputs": [
    {
     "name": "stdout",
     "output_type": "stream",
     "text": [
      "3.3333333333333335\n"
     ]
    }
   ],
   "source": [
    "#This will convert 200 minutes to hours by diving by 60\n",
    "m=200\n",
    "h=(m/60)\n",
    "print(h)"
   ]
  },
  {
   "cell_type": "markdown",
   "id": "d1824582-a3e1-42c2-8003-6d6e6ad9a98d",
   "metadata": {},
   "source": [
    "## Author\n",
    "Luis M Perez"
   ]
  },
  {
   "cell_type": "code",
   "execution_count": null,
   "id": "3c9d3308-2b70-4449-beee-18fdaf1d408b",
   "metadata": {},
   "outputs": [],
   "source": []
  }
 ],
 "metadata": {
  "kernelspec": {
   "display_name": "Python 3",
   "language": "python",
   "name": "python3"
  },
  "language_info": {
   "codemirror_mode": {
    "name": "ipython",
    "version": 3
   },
   "file_extension": ".py",
   "mimetype": "text/x-python",
   "name": "python",
   "nbconvert_exporter": "python",
   "pygments_lexer": "ipython3",
   "version": "3.8.8"
  }
 },
 "nbformat": 4,
 "nbformat_minor": 5
}
